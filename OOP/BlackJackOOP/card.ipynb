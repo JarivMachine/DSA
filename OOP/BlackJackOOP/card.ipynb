{
 "cells": [
  {
   "cell_type": "code",
   "execution_count": 1,
   "id": "f0420bd9-9b72-43d1-ac66-631d1a0eb30b",
   "metadata": {
    "tags": []
   },
   "outputs": [],
   "source": [
    "class Card:\n",
    "    def __init__(self, suit, rank):\n",
    "        self.suit = suit\n",
    "        self.rank = rank\n",
    "\n",
    "    def get_rank(self):\n",
    "        return self.rank\n",
    "\n",
    "    def get_suit(self):\n",
    "        return self.suit\n"
   ]
  },
  {
   "cell_type": "code",
   "execution_count": null,
   "id": "b2c9ed1b-fde5-4463-a439-255ed0fdf51c",
   "metadata": {},
   "outputs": [],
   "source": []
  }
 ],
 "metadata": {
  "kernelspec": {
   "display_name": "Python 3 (ipykernel)",
   "language": "python",
   "name": "python3"
  },
  "language_info": {
   "codemirror_mode": {
    "name": "ipython",
    "version": 3
   },
   "file_extension": ".py",
   "mimetype": "text/x-python",
   "name": "python",
   "nbconvert_exporter": "python",
   "pygments_lexer": "ipython3",
   "version": "3.11.5"
  }
 },
 "nbformat": 4,
 "nbformat_minor": 5
}
