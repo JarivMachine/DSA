{
 "cells": [
  {
   "cell_type": "code",
   "execution_count": 1,
   "id": "7b9450d9-2cf7-4309-959a-6cd9151002c9",
   "metadata": {
    "tags": []
   },
   "outputs": [],
   "source": [
    "from card import Card\n",
    "import random\n",
    "\n",
    "HEARTS = chr(9829)  # Character is '♥'\n",
    "DIAMONDS = chr(9830)  # Character is  '♦'\n",
    "SPADES = chr(9824)  # Character is  '♠'\n",
    "CLUBS = chr(9827)  # Character is  '♣'\n",
    "BACKSIDE = 'backside'\n",
    "\n",
    "\n",
    "class Deck:\n",
    "    def __init__(self):\n",
    "        \"\"\"Return a list of tuples (rank , suit) for all 52 cards\"\"\"\n",
    "        self.cards = []\n",
    "        for suit in (HEARTS, DIAMONDS, SPADES, CLUBS):\n",
    "            for rank in range(2, 11):\n",
    "                # add the numbered cards\n",
    "                self.cards.append(Card(suit, str(rank)))\n",
    "            for rank in ('J', 'Q', \"K\", \"A\"):\n",
    "                # add face and ace cards\n",
    "                self.cards.append(Card(suit, rank))\n",
    "\n",
    "\n",
    "    def shuffle(self):\n",
    "        if len(self.cards) > 1:\n",
    "            random.shuffle(self.cards)\n",
    "\n",
    "    def deal(self):\n",
    "        if len(self.cards) > 1:\n",
    "            return self.cards.pop(0)\n"
   ]
  },
  {
   "cell_type": "code",
   "execution_count": null,
   "id": "664eb4da-b775-498b-b0db-da53d6d6f7bb",
   "metadata": {},
   "outputs": [],
   "source": []
  }
 ],
 "metadata": {
  "kernelspec": {
   "display_name": "Python 3 (ipykernel)",
   "language": "python",
   "name": "python3"
  },
  "language_info": {
   "codemirror_mode": {
    "name": "ipython",
    "version": 3
   },
   "file_extension": ".py",
   "mimetype": "text/x-python",
   "name": "python",
   "nbconvert_exporter": "python",
   "pygments_lexer": "ipython3",
   "version": "3.11.5"
  }
 },
 "nbformat": 4,
 "nbformat_minor": 5
}
