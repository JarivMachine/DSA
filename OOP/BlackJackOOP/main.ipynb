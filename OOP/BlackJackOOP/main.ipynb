{
 "cells": [
  {
   "cell_type": "code",
   "execution_count": null,
   "id": "5c894a57-0890-4b98-b76b-0a9838c6c942",
   "metadata": {
    "tags": []
   },
   "outputs": [
    {
     "name": "stdout",
     "output_type": "stream",
     "text": [
      "Welcome to BlackJack\n",
      "Money:  5000\n",
      "How much do you bet? (1-5000, or QUIT)\n"
     ]
    },
    {
     "name": "stdin",
     "output_type": "stream",
     "text": [
      ">  3000\n"
     ]
    },
    {
     "name": "stdout",
     "output_type": "stream",
     "text": [
      "Bet: 3000\n",
      "DEALER: ???\n",
      " ___   ___  \n",
      "|## | |5  | \n",
      "|###| | ♠ | \n",
      "|_##| |__5| \n",
      "\n",
      "PLAYER: 19\n",
      " ___   ___  \n",
      "|Q  | |9  | \n",
      "| ♥ | | ♦ | \n",
      "|__Q| |__9| \n",
      "\n",
      "\n"
     ]
    },
    {
     "name": "stdin",
     "output_type": "stream",
     "text": [
      "(H)it, (S)tand, (D)ouble down> H\n"
     ]
    },
    {
     "name": "stdout",
     "output_type": "stream",
     "text": [
      "You drew a J of ♣.\n",
      "DEALER: ???\n",
      " ___   ___  \n",
      "|## | |5  | \n",
      "|###| | ♠ | \n",
      "|_##| |__5| \n",
      "\n",
      "PLAYER: 29\n",
      " ___   ___   ___  \n",
      "|Q  | |9  | |J  | \n",
      "| ♥ | | ♦ | | ♣ | \n",
      "|__Q| |__9| |__J| \n",
      "\n",
      "\n",
      "DEALER: 15\n",
      " ___   ___  \n",
      "|Q  | |5  | \n",
      "| ♠ | | ♠ | \n",
      "|__Q| |__5| \n",
      "\n",
      "PLAYER: 29\n",
      " ___   ___   ___  \n",
      "|Q  | |9  | |J  | \n",
      "| ♥ | | ♦ | | ♣ | \n",
      "|__Q| |__9| |__J| \n",
      "\n",
      "You lost!\n",
      "Money:  2000\n",
      "How much do you bet? (1-2000, or QUIT)\n"
     ]
    },
    {
     "name": "stdin",
     "output_type": "stream",
     "text": [
      ">  20\n"
     ]
    },
    {
     "name": "stdout",
     "output_type": "stream",
     "text": [
      "Bet: 20\n",
      "DEALER: ???\n",
      " ___   ___  \n",
      "|## | |K  | \n",
      "|###| | ♣ | \n",
      "|_##| |__K| \n",
      "\n",
      "PLAYER: 9\n",
      " ___   ___  \n",
      "|6  | |3  | \n",
      "| ♣ | | ♣ | \n",
      "|__6| |__3| \n",
      "\n",
      "\n"
     ]
    }
   ],
   "source": [
    "from game import Game\n",
    "from deck import Deck\n",
    "from hand import Hand\n",
    "from money import Money\n",
    "import sys\n",
    "\n",
    "\n",
    "print(\"Welcome to BlackJack\")\n",
    "money = Money(5000)\n",
    "while True:\n",
    "    # Check if player has run out of money\n",
    "    if money.amount <= 0:\n",
    "        print(\"It is good that you weren't playing with real money\")\n",
    "        print(\"Thanks for playing!\")\n",
    "        sys.exit()\n",
    "    # Ask player to enter their bet\n",
    "    print(\"Money: \", money.amount)\n",
    "    bet = money.get_bet(money.amount)\n",
    "    # get deck\n",
    "    deck = Deck()\n",
    "    deck.shuffle()\n",
    "    # Give the dealer and player two cards from the deck\n",
    "    player_hand = Hand()\n",
    "    dealer_hand = Hand(dealer=True)\n",
    "    for i in range(2):\n",
    "        player_hand.add_card(deck.deal())\n",
    "        dealer_hand.add_card(deck.deal())\n",
    "    # Handle player actions\n",
    "    print(\"Bet:\", bet)\n",
    "    while True:\n",
    "        dealer_hand.display()\n",
    "        player_hand.display()\n",
    "        print()\n",
    "        # Check if player has bust\n",
    "        if player_hand.get_value() > 21:\n",
    "            break\n",
    "        # Get player's move\n",
    "        game = Game()\n",
    "        move = game.get_move(player_hand.get_value(), money.amount - bet)\n",
    "        # Handle player moves\n",
    "        if move == 'D':\n",
    "            additional_bet = money.get_bet(min(bet, (money.amount-bet)))\n",
    "            bet += additional_bet\n",
    "            print(f\"Bet increased to {bet}.\")\n",
    "            print(\"Bet:\", bet)\n",
    "        if move in ('H', 'D'):\n",
    "            # Get another card\n",
    "            new_card = deck.deal()\n",
    "            rank = new_card.get_rank()\n",
    "            suit = new_card.get_suit()\n",
    "            print(f\"You drew a {rank} of {suit}.\")\n",
    "            player_hand.add_card(new_card)\n",
    "            if player_hand.get_value() > 21:\n",
    "                continue\n",
    "        if move == 'S':\n",
    "            break\n",
    "    # Handle dealer's actions\n",
    "    if player_hand.get_value() <= 21:\n",
    "        while dealer_hand.get_value() < 17:\n",
    "            print(\"The dealer hits..\")\n",
    "            dealer_hand.add_card(deck.deal())\n",
    "            dealer_hand.display()\n",
    "            player_hand.display()\n",
    "            if dealer_hand.get_value() > 21:\n",
    "                break\n",
    "            input(\"Press enter to continue..\")\n",
    "            print('\\n\\n')\n",
    "    # Handle whether the player won, lost or draw\n",
    "    dealer_hand.display(show_dealer=True)\n",
    "    player_hand.display()\n",
    "    player_value = player_hand.get_value()\n",
    "    dealer_value = dealer_hand.get_value()\n",
    "    if dealer_value > 21:\n",
    "        print(f\"Dealer busts! You win ${bet}!\")\n",
    "        money.add_money(bet)\n",
    "    elif player_value > 21 or player_value < dealer_value:\n",
    "        print(\"You lost!\")\n",
    "        money.sub_money(bet)\n",
    "    elif player_value > dealer_value:\n",
    "        print(f\"You win ${bet}!\")\n",
    "        money.add_money(bet)\n",
    "    elif player_value == dealer_value:\n",
    "        print(\"It is a draw and the bet is returned to you!\")\n",
    "        input(\"Press enter to continue..\")\n",
    "        print('\\n\\n')"
   ]
  },
  {
   "cell_type": "code",
   "execution_count": null,
   "id": "5c093b51-db4c-409d-9131-4627748bbcc2",
   "metadata": {},
   "outputs": [],
   "source": []
  }
 ],
 "metadata": {
  "kernelspec": {
   "display_name": "Python 3 (ipykernel)",
   "language": "python",
   "name": "python3"
  },
  "language_info": {
   "codemirror_mode": {
    "name": "ipython",
    "version": 3
   },
   "file_extension": ".py",
   "mimetype": "text/x-python",
   "name": "python",
   "nbconvert_exporter": "python",
   "pygments_lexer": "ipython3",
   "version": "3.11.5"
  }
 },
 "nbformat": 4,
 "nbformat_minor": 5
}
