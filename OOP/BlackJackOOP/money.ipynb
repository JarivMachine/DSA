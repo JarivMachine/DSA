{
 "cells": [
  {
   "cell_type": "code",
   "execution_count": 1,
   "id": "72e512c1-3b20-4f9b-a06f-85a148e59612",
   "metadata": {
    "tags": []
   },
   "outputs": [],
   "source": [
    "class Money:\n",
    "    def __init__(self, amount):\n",
    "        self.amount = amount\n",
    "\n",
    "    def add_money(self, amount):\n",
    "        self.amount += amount\n",
    "\n",
    "    def sub_money(self, amount):\n",
    "        self.amount -= amount\n",
    "\n",
    "    def get_bet(self,max_bet):\n",
    "        \"\"\"Ask the player how much money they want to bet for this round\"\"\"\n",
    "        while True:\n",
    "            print(\"How much do you bet? (1-{}, or QUIT)\".format(max_bet))\n",
    "            bet = input('> ').upper().strip()\n",
    "            if bet == 'QUIT':\n",
    "                print(\"Thanks for playing!\")\n",
    "                sys.exit()\n",
    "            if not bet.isdecimal():\n",
    "                continue\n",
    "            bet = int(bet)\n",
    "            if 1 <= bet <= max_bet:\n",
    "                return bet"
   ]
  },
  {
   "cell_type": "code",
   "execution_count": null,
   "id": "673c92aa-471c-45dc-a2b6-564199eb2040",
   "metadata": {},
   "outputs": [],
   "source": []
  }
 ],
 "metadata": {
  "kernelspec": {
   "display_name": "Python 3 (ipykernel)",
   "language": "python",
   "name": "python3"
  },
  "language_info": {
   "codemirror_mode": {
    "name": "ipython",
    "version": 3
   },
   "file_extension": ".py",
   "mimetype": "text/x-python",
   "name": "python",
   "nbconvert_exporter": "python",
   "pygments_lexer": "ipython3",
   "version": "3.11.5"
  }
 },
 "nbformat": 4,
 "nbformat_minor": 5
}
