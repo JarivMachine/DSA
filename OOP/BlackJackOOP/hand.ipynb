{
 "cells": [
  {
   "cell_type": "code",
   "execution_count": 1,
   "id": "f5ab7db2-381f-4e93-a135-31c290a573a2",
   "metadata": {
    "tags": []
   },
   "outputs": [],
   "source": [
    "from deck import BACKSIDE\n",
    "\n",
    "class Hand:\n",
    "    def __init__(self, dealer=False):\n",
    "        self.dealer = dealer\n",
    "        self.cards = []\n",
    "        self.value = 0\n",
    "\n",
    "    def add_card(self, card):\n",
    "        self.cards.append(card)\n",
    "\n",
    "    def get_value(self):\n",
    "        \"Return value of cards.\"\n",
    "        value = 0\n",
    "        number_aces = 0\n",
    "        # Add the value for non ace cards.\n",
    "        for card in self.cards:\n",
    "            rank = card.get_rank()\n",
    "            if rank == \"A\":\n",
    "                number_aces += 1\n",
    "            elif rank in ('K', 'J', 'Q'):\n",
    "                value += 10\n",
    "            else:\n",
    "                value += int(rank)\n",
    "        value += number_aces\n",
    "        for i in range(number_aces):\n",
    "            # If another 10 can be added without busting\n",
    "            if value + 10 <= 21:\n",
    "                value += 10\n",
    "        self.value = value\n",
    "        return self.value\n",
    "\n",
    "    def display_card_image(self, cards):\n",
    "        \"\"\"Display all the cards in the card list\"\"\"\n",
    "        rows = ['', '', '', '', '']\n",
    "        for card in cards:\n",
    "            rows[0] += ' ___  '\n",
    "            if card == BACKSIDE:\n",
    "                rows[1] += '|## | '\n",
    "                rows[2] += '|###| '\n",
    "                rows[3] += '|_##| '\n",
    "            else:\n",
    "                rank, suit = card.get_rank(), card.get_suit()\n",
    "                rows[1] += '|{} | '.format(rank.ljust(2))\n",
    "                rows[2] += '| {} | '.format(suit)\n",
    "                rows[3] += '|_{}| '.format(rank.rjust(2, '_'))\n",
    "        for row in rows:\n",
    "            print(row)\n",
    "\n",
    "\n",
    "\n",
    "    def display(self, show_dealer = False):\n",
    "        \"\"\"Show player's and dealer's hand\"\"\"\n",
    "        if self.dealer and show_dealer == False:\n",
    "            print(\"DEALER: ???\")\n",
    "            # Hide dealer's first card\n",
    "            self.display_card_image([BACKSIDE] + self.cards[1:])\n",
    "        # Show the player's cards\n",
    "        elif self.dealer and show_dealer:\n",
    "            print(\"DEALER:\", self.get_value())\n",
    "            self.display_card_image(self.cards)\n",
    "        else:\n",
    "            print(\"PLAYER:\", self.get_value())\n",
    "            self.display_card_image(self.cards)"
   ]
  },
  {
   "cell_type": "code",
   "execution_count": null,
   "id": "9543b605-f019-48f3-8cdd-c4fabb1258c3",
   "metadata": {},
   "outputs": [],
   "source": []
  }
 ],
 "metadata": {
  "kernelspec": {
   "display_name": "Python 3 (ipykernel)",
   "language": "python",
   "name": "python3"
  },
  "language_info": {
   "codemirror_mode": {
    "name": "ipython",
    "version": 3
   },
   "file_extension": ".py",
   "mimetype": "text/x-python",
   "name": "python",
   "nbconvert_exporter": "python",
   "pygments_lexer": "ipython3",
   "version": "3.11.5"
  }
 },
 "nbformat": 4,
 "nbformat_minor": 5
}
