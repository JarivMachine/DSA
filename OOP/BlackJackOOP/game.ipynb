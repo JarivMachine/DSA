{
 "cells": [
  {
   "cell_type": "code",
   "execution_count": 1,
   "id": "a9ba7991-4814-4f79-8f2d-14718ea0b27f",
   "metadata": {
    "tags": []
   },
   "outputs": [],
   "source": [
    "import sys\n",
    "\n",
    "\n",
    "class Game:\n",
    "    def __init__(self):\n",
    "        pass\n",
    "\n",
    "    def get_move(self, player_hand, money):\n",
    "        \"\"\"Ask the player for their move, return H , S or D\"\"\"\n",
    "        while True:\n",
    "            # Determine what move the player can make\n",
    "            moves = [\"(H)it\", \"(S)tand\"]\n",
    "            if len(str(player_hand)) == 2 and money > 0:\n",
    "                moves.append('(D)ouble down')\n",
    "            # Ask from player the move, by showing options\n",
    "            move_prompt = ', '.join(moves) + '>'\n",
    "            move = input(move_prompt).upper()\n",
    "            if move in ('H', 'S'):\n",
    "                return move\n",
    "            if move == 'D' and '(D)ouble down' in moves:\n",
    "                return move\n"
   ]
  },
  {
   "cell_type": "code",
   "execution_count": null,
   "id": "f3b460a5-d4bc-4cd2-a36c-e6ec7dea8683",
   "metadata": {},
   "outputs": [],
   "source": []
  }
 ],
 "metadata": {
  "kernelspec": {
   "display_name": "Python 3 (ipykernel)",
   "language": "python",
   "name": "python3"
  },
  "language_info": {
   "codemirror_mode": {
    "name": "ipython",
    "version": 3
   },
   "file_extension": ".py",
   "mimetype": "text/x-python",
   "name": "python",
   "nbconvert_exporter": "python",
   "pygments_lexer": "ipython3",
   "version": "3.11.5"
  }
 },
 "nbformat": 4,
 "nbformat_minor": 5
}
